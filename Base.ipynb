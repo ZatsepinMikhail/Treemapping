{
 "cells": [
  {
   "cell_type": "code",
   "execution_count": 136,
   "metadata": {
    "collapsed": true
   },
   "outputs": [],
   "source": [
    "import os\n",
    "import matplotlib.pyplot as plt\n",
    "import matplotlib.patches as pa"
   ]
  },
  {
   "cell_type": "code",
   "execution_count": 219,
   "metadata": {
    "collapsed": true
   },
   "outputs": [],
   "source": [
    "working_dir = '/Users/user/Documents/'"
   ]
  },
  {
   "cell_type": "code",
   "execution_count": 15,
   "metadata": {
    "collapsed": true
   },
   "outputs": [],
   "source": [
    "from enum import Enum\n",
    "class Split(Enum):\n",
    "    HORIZONTAL = 1\n",
    "    VERTICAL = 2"
   ]
  },
  {
   "cell_type": "code",
   "execution_count": 76,
   "metadata": {
    "collapsed": true
   },
   "outputs": [],
   "source": [
    "def inverse_split(split):\n",
    "    if split == Split.HORIZONTAL:\n",
    "        return Split.VERTICAL\n",
    "    elif split == Split.VERTICAL:\n",
    "        return Split.HORIZONTAL\n",
    "    else:\n",
    "        assert(False)"
   ]
  },
  {
   "cell_type": "code",
   "execution_count": 220,
   "metadata": {},
   "outputs": [],
   "source": [
    "# rect = (x_left, y_down, x_right, y_upper)\n",
    "#\n",
    "#             x_left             x_right \n",
    "#\n",
    "# y_down      |------------------|\n",
    "#             |                  |\n",
    "#             |                  |\n",
    "#             |                  |\n",
    "# y_upper     |------------------|\n",
    "\n",
    "import copy\n",
    "\n",
    "class TreeRectangle:\n",
    "    def __init__(self, rect=(0.0, 0.0, 1.0, 1.0)):\n",
    "        assert(len(rect) == 4)\n",
    "        self.x_left = rect[0]\n",
    "        self.y_down = rect[1]\n",
    "        self.x_right = rect[2]\n",
    "        self.y_upper = rect[3]\n",
    "        assert(self.x_size() > 0 and self.y_size() > 0)\n",
    "        for coord in rect:\n",
    "            assert(self.check_component(coord))\n",
    "            \n",
    "    def get_start_point(self):\n",
    "        return (self.x_left, self.y_down)\n",
    "            \n",
    "    def x_size(self):\n",
    "        return self.x_right - self.x_left\n",
    "    \n",
    "    def y_size(self):\n",
    "        return self.y_upper - self.y_down\n",
    " \n",
    "    def __repr__(self):\n",
    "         return '({}, {}, {}, {})'.format(self.x_left, self.y_down, self.x_right, self.y_upper)\n",
    "\n",
    "    def __str__(self):\n",
    "         return '({}, {}, {}, {})'.format(self.x_left, self.y_down, self.x_right, self.y_upper)\n",
    "        \n",
    "    def create_sub_rectangle(self, ratio, shift, split_type):\n",
    "        sub_rectangle = copy.copy(self)\n",
    "        if split_type == Split.HORIZONTAL:\n",
    "            sub_size = ratio * (self.y_upper - self.y_down)\n",
    "            sub_rectangle.y_down += shift\n",
    "            sub_rectangle.y_upper = sub_rectangle.y_down + sub_size\n",
    "        elif split_type == Split.VERTICAL:\n",
    "            sub_size = ratio * (self.x_right - self.x_left)\n",
    "            sub_rectangle.x_left += shift\n",
    "            sub_rectangle.x_right = sub_rectangle.x_left + sub_size\n",
    "        else:    \n",
    "            assert(False)\n",
    "        return sub_rectangle\n",
    "        \n",
    "    def check_component(self, coord):\n",
    "        return 0.0 <= coord <= 1.0\n",
    "    \n",
    "    def check_ratios(self, ratios):\n",
    "        sum_ratios = sum(ratios)\n",
    "        if not (abs(sum_ratios - 1.0) < 1e-10):\n",
    "            print(sum_ratios)\n",
    "            assert(False)\n",
    "    \n",
    "    def split(self, ratios, split_type):\n",
    "        self.check_ratios(ratios)\n",
    "        \n",
    "        splitted_rectangles = []\n",
    "        cummulative_shift = 0.0\n",
    "        for ratio in ratios:\n",
    "            sub_rect = self.create_sub_rectangle(ratio, cummulative_shift, split_type)\n",
    "            splitted_rectangles.append(sub_rect)\n",
    "            if split_type == Split.HORIZONTAL:\n",
    "                cummulative_shift += splitted_rectangles[-1].y_size() \n",
    "            elif split_type == Split.VERTICAL:\n",
    "                cummulative_shift += splitted_rectangles[-1].x_size()\n",
    "        return splitted_rectangles"
   ]
  },
  {
   "cell_type": "code",
   "execution_count": 221,
   "metadata": {},
   "outputs": [],
   "source": [
    "base_rectangle = TreeRectangle()"
   ]
  },
  {
   "cell_type": "code",
   "execution_count": 222,
   "metadata": {},
   "outputs": [],
   "source": [
    "spliited_rects = base_rectangle.split([0.1, 0.4, 0.5], Split.HORIZONTAL)"
   ]
  },
  {
   "cell_type": "code",
   "execution_count": 223,
   "metadata": {},
   "outputs": [
    {
     "name": "stdout",
     "output_type": "stream",
     "text": [
      "(0.0, 0.0, 1.0, 0.1)\n",
      "(0.0, 0.1, 1.0, 0.5)\n",
      "(0.0, 0.5, 1.0, 1.0)\n"
     ]
    }
   ],
   "source": [
    "for rect in spliited_rects:\n",
    "    print(rect)"
   ]
  },
  {
   "cell_type": "code",
   "execution_count": 224,
   "metadata": {},
   "outputs": [
    {
     "data": {
      "text/plain": [
       "[(0.0, 0.0, 0.1, 0.1), (0.1, 0.0, 1.0, 0.1)]"
      ]
     },
     "execution_count": 224,
     "metadata": {},
     "output_type": "execute_result"
    }
   ],
   "source": [
    "spliited_rects_2"
   ]
  },
  {
   "cell_type": "code",
   "execution_count": 225,
   "metadata": {},
   "outputs": [],
   "source": [
    "import os\n",
    "\n",
    "class TreeMap:\n",
    "    def __init__(self, directory):\n",
    "        self.rects = {}\n",
    "        self.size_map = {}\n",
    "        self.calc_size_map(directory)\n",
    "        self.process_dir(directory, TreeRectangle(), Split.HORIZONTAL)\n",
    "        \n",
    "    def calc_size_map(self, directory):\n",
    "        total_size = 0\n",
    "        for filename in os.listdir(directory):\n",
    "            full_path = os.path.join(directory, filename)\n",
    "            if os.path.isdir(full_path):\n",
    "                self.calc_size_map(full_path)\n",
    "            else:\n",
    "                self.size_map[full_path] = os.path.getsize(full_path)\n",
    "            total_size += self.size_map[full_path]\n",
    "        self.size_map[directory] = total_size\n",
    "    \n",
    "    def process_dir(self, directory, parent_rect, split_type):\n",
    "        files_paths = [os.path.join(directory, filename) for filename in os.listdir(directory)]\n",
    "        \n",
    "        ratios = []\n",
    "        for file_path in files_paths:\n",
    "            ratios.append(self.size_map[file_path] / self.size_map[directory])\n",
    "        \n",
    "        new_rects = parent_rect.split(ratios, split_type)\n",
    "        for i in range(len(files_paths)):\n",
    "            file_path = files_paths[i]\n",
    "            cur_rect = new_rects[i]\n",
    "            if os.path.isdir(file_path):\n",
    "                self.process_dir(file_path, cur_rect, inverse_split(split_type))\n",
    "            elif os.path.isfile(file_path):\n",
    "                self.rects[file_path] = cur_rect\n",
    "            else:\n",
    "                assert(False)  "
   ]
  },
  {
   "cell_type": "code",
   "execution_count": 226,
   "metadata": {},
   "outputs": [],
   "source": [
    "import random\n",
    "\n",
    "class TreeMapVisualizer:\n",
    "    def __init__(self, tree_map):\n",
    "        self.tree_map = tree_map\n",
    "        self.extension_color_map = {}\n",
    "        \n",
    "    def create_plt_rectangle(self, rect, color):\n",
    "        return pa.Rectangle(rect.get_start_point(), rect.x_size(), rect.y_size(), color=color)\n",
    "        \n",
    "    def generate_new_color(self, ext):\n",
    "        self.extension_color_map[ext] = \"#\"+''.join([random.choice('0123456789ABCDEF') for j in range(6)])\n",
    "        \n",
    "        #self.extension_color_map[ext] = (random.uniform(0,1), random.uniform(0,1), random.uniform(0,1))\n",
    "        \n",
    "    def visualize(self, figure):\n",
    "        #figure_size = figure.get_size_inches()*figure.dpi\n",
    "        for file_path, rect in self.tree_map.rects.items(): \n",
    "            extension = os.path.splitext(file_path)[1]\n",
    "            if extension not in self.extension_color_map:\n",
    "                self.generate_new_color(extension)\n",
    "            figure.gca().add_patch(self.create_plt_rectangle(rect, self.extension_color_map[extension]))"
   ]
  },
  {
   "cell_type": "code",
   "execution_count": 227,
   "metadata": {},
   "outputs": [
    {
     "name": "stdout",
     "output_type": "stream",
     "text": [
      "0\n"
     ]
    },
    {
     "ename": "AssertionError",
     "evalue": "",
     "output_type": "error",
     "traceback": [
      "\u001b[0;31m---------------------------------------------------------------------------\u001b[0m",
      "\u001b[0;31mAssertionError\u001b[0m                            Traceback (most recent call last)",
      "\u001b[0;32m<ipython-input-227-a8b98f27bd9e>\u001b[0m in \u001b[0;36m<module>\u001b[0;34m()\u001b[0m\n\u001b[0;32m----> 1\u001b[0;31m \u001b[0mtree_map\u001b[0m \u001b[0;34m=\u001b[0m \u001b[0mTreeMap\u001b[0m\u001b[0;34m(\u001b[0m\u001b[0mworking_dir\u001b[0m\u001b[0;34m)\u001b[0m\u001b[0;34m\u001b[0m\u001b[0m\n\u001b[0m",
      "\u001b[0;32m<ipython-input-225-5104d54620e5>\u001b[0m in \u001b[0;36m__init__\u001b[0;34m(self, directory)\u001b[0m\n\u001b[1;32m      6\u001b[0m         \u001b[0mself\u001b[0m\u001b[0;34m.\u001b[0m\u001b[0msize_map\u001b[0m \u001b[0;34m=\u001b[0m \u001b[0;34m{\u001b[0m\u001b[0;34m}\u001b[0m\u001b[0;34m\u001b[0m\u001b[0m\n\u001b[1;32m      7\u001b[0m         \u001b[0mself\u001b[0m\u001b[0;34m.\u001b[0m\u001b[0mcalc_size_map\u001b[0m\u001b[0;34m(\u001b[0m\u001b[0mdirectory\u001b[0m\u001b[0;34m)\u001b[0m\u001b[0;34m\u001b[0m\u001b[0m\n\u001b[0;32m----> 8\u001b[0;31m         \u001b[0mself\u001b[0m\u001b[0;34m.\u001b[0m\u001b[0mprocess_dir\u001b[0m\u001b[0;34m(\u001b[0m\u001b[0mdirectory\u001b[0m\u001b[0;34m,\u001b[0m \u001b[0mTreeRectangle\u001b[0m\u001b[0;34m(\u001b[0m\u001b[0;34m)\u001b[0m\u001b[0;34m,\u001b[0m \u001b[0mSplit\u001b[0m\u001b[0;34m.\u001b[0m\u001b[0mHORIZONTAL\u001b[0m\u001b[0;34m)\u001b[0m\u001b[0;34m\u001b[0m\u001b[0m\n\u001b[0m\u001b[1;32m      9\u001b[0m \u001b[0;34m\u001b[0m\u001b[0m\n\u001b[1;32m     10\u001b[0m     \u001b[0;32mdef\u001b[0m \u001b[0mcalc_size_map\u001b[0m\u001b[0;34m(\u001b[0m\u001b[0mself\u001b[0m\u001b[0;34m,\u001b[0m \u001b[0mdirectory\u001b[0m\u001b[0;34m)\u001b[0m\u001b[0;34m:\u001b[0m\u001b[0;34m\u001b[0m\u001b[0m\n",
      "\u001b[0;32m<ipython-input-225-5104d54620e5>\u001b[0m in \u001b[0;36mprocess_dir\u001b[0;34m(self, directory, parent_rect, split_type)\u001b[0m\n\u001b[1;32m     31\u001b[0m             \u001b[0mcur_rect\u001b[0m \u001b[0;34m=\u001b[0m \u001b[0mnew_rects\u001b[0m\u001b[0;34m[\u001b[0m\u001b[0mi\u001b[0m\u001b[0;34m]\u001b[0m\u001b[0;34m\u001b[0m\u001b[0m\n\u001b[1;32m     32\u001b[0m             \u001b[0;32mif\u001b[0m \u001b[0mos\u001b[0m\u001b[0;34m.\u001b[0m\u001b[0mpath\u001b[0m\u001b[0;34m.\u001b[0m\u001b[0misdir\u001b[0m\u001b[0;34m(\u001b[0m\u001b[0mfile_path\u001b[0m\u001b[0;34m)\u001b[0m\u001b[0;34m:\u001b[0m\u001b[0;34m\u001b[0m\u001b[0m\n\u001b[0;32m---> 33\u001b[0;31m                 \u001b[0mself\u001b[0m\u001b[0;34m.\u001b[0m\u001b[0mprocess_dir\u001b[0m\u001b[0;34m(\u001b[0m\u001b[0mfile_path\u001b[0m\u001b[0;34m,\u001b[0m \u001b[0mcur_rect\u001b[0m\u001b[0;34m,\u001b[0m \u001b[0minverse_split\u001b[0m\u001b[0;34m(\u001b[0m\u001b[0msplit_type\u001b[0m\u001b[0;34m)\u001b[0m\u001b[0;34m)\u001b[0m\u001b[0;34m\u001b[0m\u001b[0m\n\u001b[0m\u001b[1;32m     34\u001b[0m             \u001b[0;32melif\u001b[0m \u001b[0mos\u001b[0m\u001b[0;34m.\u001b[0m\u001b[0mpath\u001b[0m\u001b[0;34m.\u001b[0m\u001b[0misfile\u001b[0m\u001b[0;34m(\u001b[0m\u001b[0mfile_path\u001b[0m\u001b[0;34m)\u001b[0m\u001b[0;34m:\u001b[0m\u001b[0;34m\u001b[0m\u001b[0m\n\u001b[1;32m     35\u001b[0m                 \u001b[0mself\u001b[0m\u001b[0;34m.\u001b[0m\u001b[0mrects\u001b[0m\u001b[0;34m[\u001b[0m\u001b[0mfile_path\u001b[0m\u001b[0;34m]\u001b[0m \u001b[0;34m=\u001b[0m \u001b[0mcur_rect\u001b[0m\u001b[0;34m\u001b[0m\u001b[0m\n",
      "\u001b[0;32m<ipython-input-225-5104d54620e5>\u001b[0m in \u001b[0;36mprocess_dir\u001b[0;34m(self, directory, parent_rect, split_type)\u001b[0m\n\u001b[1;32m     31\u001b[0m             \u001b[0mcur_rect\u001b[0m \u001b[0;34m=\u001b[0m \u001b[0mnew_rects\u001b[0m\u001b[0;34m[\u001b[0m\u001b[0mi\u001b[0m\u001b[0;34m]\u001b[0m\u001b[0;34m\u001b[0m\u001b[0m\n\u001b[1;32m     32\u001b[0m             \u001b[0;32mif\u001b[0m \u001b[0mos\u001b[0m\u001b[0;34m.\u001b[0m\u001b[0mpath\u001b[0m\u001b[0;34m.\u001b[0m\u001b[0misdir\u001b[0m\u001b[0;34m(\u001b[0m\u001b[0mfile_path\u001b[0m\u001b[0;34m)\u001b[0m\u001b[0;34m:\u001b[0m\u001b[0;34m\u001b[0m\u001b[0m\n\u001b[0;32m---> 33\u001b[0;31m                 \u001b[0mself\u001b[0m\u001b[0;34m.\u001b[0m\u001b[0mprocess_dir\u001b[0m\u001b[0;34m(\u001b[0m\u001b[0mfile_path\u001b[0m\u001b[0;34m,\u001b[0m \u001b[0mcur_rect\u001b[0m\u001b[0;34m,\u001b[0m \u001b[0minverse_split\u001b[0m\u001b[0;34m(\u001b[0m\u001b[0msplit_type\u001b[0m\u001b[0;34m)\u001b[0m\u001b[0;34m)\u001b[0m\u001b[0;34m\u001b[0m\u001b[0m\n\u001b[0m\u001b[1;32m     34\u001b[0m             \u001b[0;32melif\u001b[0m \u001b[0mos\u001b[0m\u001b[0;34m.\u001b[0m\u001b[0mpath\u001b[0m\u001b[0;34m.\u001b[0m\u001b[0misfile\u001b[0m\u001b[0;34m(\u001b[0m\u001b[0mfile_path\u001b[0m\u001b[0;34m)\u001b[0m\u001b[0;34m:\u001b[0m\u001b[0;34m\u001b[0m\u001b[0m\n\u001b[1;32m     35\u001b[0m                 \u001b[0mself\u001b[0m\u001b[0;34m.\u001b[0m\u001b[0mrects\u001b[0m\u001b[0;34m[\u001b[0m\u001b[0mfile_path\u001b[0m\u001b[0;34m]\u001b[0m \u001b[0;34m=\u001b[0m \u001b[0mcur_rect\u001b[0m\u001b[0;34m\u001b[0m\u001b[0m\n",
      "\u001b[0;32m<ipython-input-225-5104d54620e5>\u001b[0m in \u001b[0;36mprocess_dir\u001b[0;34m(self, directory, parent_rect, split_type)\u001b[0m\n\u001b[1;32m     26\u001b[0m             \u001b[0mratios\u001b[0m\u001b[0;34m.\u001b[0m\u001b[0mappend\u001b[0m\u001b[0;34m(\u001b[0m\u001b[0mself\u001b[0m\u001b[0;34m.\u001b[0m\u001b[0msize_map\u001b[0m\u001b[0;34m[\u001b[0m\u001b[0mfile_path\u001b[0m\u001b[0;34m]\u001b[0m \u001b[0;34m/\u001b[0m \u001b[0mself\u001b[0m\u001b[0;34m.\u001b[0m\u001b[0msize_map\u001b[0m\u001b[0;34m[\u001b[0m\u001b[0mdirectory\u001b[0m\u001b[0;34m]\u001b[0m\u001b[0;34m)\u001b[0m\u001b[0;34m\u001b[0m\u001b[0m\n\u001b[1;32m     27\u001b[0m \u001b[0;34m\u001b[0m\u001b[0m\n\u001b[0;32m---> 28\u001b[0;31m         \u001b[0mnew_rects\u001b[0m \u001b[0;34m=\u001b[0m \u001b[0mparent_rect\u001b[0m\u001b[0;34m.\u001b[0m\u001b[0msplit\u001b[0m\u001b[0;34m(\u001b[0m\u001b[0mratios\u001b[0m\u001b[0;34m,\u001b[0m \u001b[0msplit_type\u001b[0m\u001b[0;34m)\u001b[0m\u001b[0;34m\u001b[0m\u001b[0m\n\u001b[0m\u001b[1;32m     29\u001b[0m         \u001b[0;32mfor\u001b[0m \u001b[0mi\u001b[0m \u001b[0;32min\u001b[0m \u001b[0mrange\u001b[0m\u001b[0;34m(\u001b[0m\u001b[0mlen\u001b[0m\u001b[0;34m(\u001b[0m\u001b[0mfiles_paths\u001b[0m\u001b[0;34m)\u001b[0m\u001b[0;34m)\u001b[0m\u001b[0;34m:\u001b[0m\u001b[0;34m\u001b[0m\u001b[0m\n\u001b[1;32m     30\u001b[0m             \u001b[0mfile_path\u001b[0m \u001b[0;34m=\u001b[0m \u001b[0mfiles_paths\u001b[0m\u001b[0;34m[\u001b[0m\u001b[0mi\u001b[0m\u001b[0;34m]\u001b[0m\u001b[0;34m\u001b[0m\u001b[0m\n",
      "\u001b[0;32m<ipython-input-220-d495948dbc4d>\u001b[0m in \u001b[0;36msplit\u001b[0;34m(self, ratios, split_type)\u001b[0m\n\u001b[1;32m     61\u001b[0m \u001b[0;34m\u001b[0m\u001b[0m\n\u001b[1;32m     62\u001b[0m     \u001b[0;32mdef\u001b[0m \u001b[0msplit\u001b[0m\u001b[0;34m(\u001b[0m\u001b[0mself\u001b[0m\u001b[0;34m,\u001b[0m \u001b[0mratios\u001b[0m\u001b[0;34m,\u001b[0m \u001b[0msplit_type\u001b[0m\u001b[0;34m)\u001b[0m\u001b[0;34m:\u001b[0m\u001b[0;34m\u001b[0m\u001b[0m\n\u001b[0;32m---> 63\u001b[0;31m         \u001b[0mself\u001b[0m\u001b[0;34m.\u001b[0m\u001b[0mcheck_ratios\u001b[0m\u001b[0;34m(\u001b[0m\u001b[0mratios\u001b[0m\u001b[0;34m)\u001b[0m\u001b[0;34m\u001b[0m\u001b[0m\n\u001b[0m\u001b[1;32m     64\u001b[0m \u001b[0;34m\u001b[0m\u001b[0m\n\u001b[1;32m     65\u001b[0m         \u001b[0msplitted_rectangles\u001b[0m \u001b[0;34m=\u001b[0m \u001b[0;34m[\u001b[0m\u001b[0;34m]\u001b[0m\u001b[0;34m\u001b[0m\u001b[0m\n",
      "\u001b[0;32m<ipython-input-220-d495948dbc4d>\u001b[0m in \u001b[0;36mcheck_ratios\u001b[0;34m(self, ratios)\u001b[0m\n\u001b[1;32m     58\u001b[0m         \u001b[0;32mif\u001b[0m \u001b[0;32mnot\u001b[0m \u001b[0;34m(\u001b[0m\u001b[0mabs\u001b[0m\u001b[0;34m(\u001b[0m\u001b[0msum_ratios\u001b[0m \u001b[0;34m-\u001b[0m \u001b[0;36m1.0\u001b[0m\u001b[0;34m)\u001b[0m \u001b[0;34m<\u001b[0m \u001b[0;36m1e-10\u001b[0m\u001b[0;34m)\u001b[0m\u001b[0;34m:\u001b[0m\u001b[0;34m\u001b[0m\u001b[0m\n\u001b[1;32m     59\u001b[0m             \u001b[0mprint\u001b[0m\u001b[0;34m(\u001b[0m\u001b[0msum_ratios\u001b[0m\u001b[0;34m)\u001b[0m\u001b[0;34m\u001b[0m\u001b[0m\n\u001b[0;32m---> 60\u001b[0;31m             \u001b[0;32massert\u001b[0m\u001b[0;34m(\u001b[0m\u001b[0;32mFalse\u001b[0m\u001b[0;34m)\u001b[0m\u001b[0;34m\u001b[0m\u001b[0m\n\u001b[0m\u001b[1;32m     61\u001b[0m \u001b[0;34m\u001b[0m\u001b[0m\n\u001b[1;32m     62\u001b[0m     \u001b[0;32mdef\u001b[0m \u001b[0msplit\u001b[0m\u001b[0;34m(\u001b[0m\u001b[0mself\u001b[0m\u001b[0;34m,\u001b[0m \u001b[0mratios\u001b[0m\u001b[0;34m,\u001b[0m \u001b[0msplit_type\u001b[0m\u001b[0;34m)\u001b[0m\u001b[0;34m:\u001b[0m\u001b[0;34m\u001b[0m\u001b[0m\n",
      "\u001b[0;31mAssertionError\u001b[0m: "
     ]
    }
   ],
   "source": [
    "tree_map = TreeMap(working_dir)"
   ]
  },
  {
   "cell_type": "code",
   "execution_count": null,
   "metadata": {},
   "outputs": [],
   "source": [
    "visualizer = TreeMapVisualizer(tree_map)"
   ]
  },
  {
   "cell_type": "code",
   "execution_count": 210,
   "metadata": {},
   "outputs": [
    {
     "data": {
      "image/png": "[encoded data removed]",
      "text/plain": [
       "<Figure size 1440x1440 with 1 Axes>"
      ]
     },
     "metadata": {},
     "output_type": "display_data"
    }
   ],
   "source": [
    "%matplotlib inline\n",
    "\n",
    "visualizer.visualize(plt.figure(figsize=(20, 20)))"
   ]
  },
  {
   "cell_type": "code",
   "execution_count": null,
   "metadata": {
    "collapsed": true
   },
   "outputs": [],
   "source": []
  }
 ],
 "metadata": {
  "kernelspec": {
   "display_name": "Python 3",
   "language": "python",
   "name": "python3"
  },
  "language_info": {
   "codemirror_mode": {
    "name": "ipython",
    "version": 3
   },
   "file_extension": ".py",
   "mimetype": "text/x-python",
   "name": "python",
   "nbconvert_exporter": "python",
   "pygments_lexer": "ipython3",
   "version": "3.5.4"
  }
 },
 "nbformat": 4,
 "nbformat_minor": 2
}
