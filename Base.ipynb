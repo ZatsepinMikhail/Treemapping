{
 "cells": [
  {
   "cell_type": "code",
   "execution_count": 1,
   "metadata": {
    "collapsed": true
   },
   "outputs": [],
   "source": [
    "import os\n",
    "import matplotlib.pyplot as plt\n",
    "import matplotlib.patches as pa"
   ]
  },
  {
   "cell_type": "code",
   "execution_count": 268,
   "metadata": {
    "collapsed": true
   },
   "outputs": [],
   "source": [
    "working_dir = '/Users/user/Documents'"
   ]
  },
  {
   "cell_type": "code",
   "execution_count": 3,
   "metadata": {
    "collapsed": true
   },
   "outputs": [],
   "source": [
    "from enum import Enum\n",
    "class Split(Enum):\n",
    "    HORIZONTAL = 1\n",
    "    VERTICAL = 2"
   ]
  },
  {
   "cell_type": "code",
   "execution_count": 4,
   "metadata": {
    "collapsed": true
   },
   "outputs": [],
   "source": [
    "def inverse_split(split):\n",
    "    if split == Split.HORIZONTAL:\n",
    "        return Split.VERTICAL\n",
    "    elif split == Split.VERTICAL:\n",
    "        return Split.HORIZONTAL\n",
    "    else:\n",
    "        assert(False)"
   ]
  },
  {
   "cell_type": "code",
   "execution_count": 49,
   "metadata": {
    "collapsed": true
   },
   "outputs": [],
   "source": [
    "# rect = (x_left, y_down, x_right, y_upper)\n",
    "#\n",
    "#             x_left             x_right \n",
    "#\n",
    "# y_down      |------------------|\n",
    "#             |                  |\n",
    "#             |                  |\n",
    "#             |                  |\n",
    "# y_upper     |------------------|\n",
    "\n",
    "import copy\n",
    "\n",
    "class TreeRectangle:\n",
    "    def __init__(self, rect=(0.0, 0.0, 1.0, 1.0)):\n",
    "        assert(len(rect) == 4)\n",
    "        self.x_left = rect[0]\n",
    "        self.y_down = rect[1]\n",
    "        self.x_right = rect[2]\n",
    "        self.y_upper = rect[3]\n",
    "        assert(self.x_size() > 0 and self.y_size() > 0)\n",
    "        for coord in rect:\n",
    "            assert(self.check_component(coord))\n",
    "            \n",
    "    def get_start_point(self):\n",
    "        return (self.x_left, self.y_down)\n",
    "            \n",
    "    def x_size(self):\n",
    "        return self.x_right - self.x_left\n",
    "    \n",
    "    def y_size(self):\n",
    "        return self.y_upper - self.y_down\n",
    " \n",
    "    def __repr__(self):\n",
    "         return '({}, {}, {}, {})'.format(self.x_left, self.y_down, self.x_right, self.y_upper)\n",
    "\n",
    "    def __str__(self):\n",
    "         return '({}, {}, {}, {})'.format(self.x_left, self.y_down, self.x_right, self.y_upper)\n",
    "        \n",
    "    def create_sub_rectangle(self, ratio, shift, split_type):\n",
    "        sub_rectangle = copy.copy(self)\n",
    "        if split_type == Split.HORIZONTAL:\n",
    "            sub_size = ratio * (self.y_upper - self.y_down)\n",
    "            sub_rectangle.y_down += shift\n",
    "            sub_rectangle.y_upper = sub_rectangle.y_down + sub_size\n",
    "        elif split_type == Split.VERTICAL:\n",
    "            sub_size = ratio * (self.x_right - self.x_left)\n",
    "            sub_rectangle.x_left += shift\n",
    "            sub_rectangle.x_right = sub_rectangle.x_left + sub_size\n",
    "        else:    \n",
    "            assert(False)\n",
    "        return sub_rectangle\n",
    "        \n",
    "    def check_component(self, coord):\n",
    "        return 0.0 <= coord <= 1.0\n",
    "    \n",
    "    def check_ratios(self, ratios):\n",
    "        sum_ratios = sum(ratios)\n",
    "        if not (abs(sum_ratios - 1.0) < 1e-10):\n",
    "            print(sum_ratios)\n",
    "            assert(False)\n",
    "    \n",
    "    def split(self, ratios, split_type):\n",
    "        self.check_ratios(ratios)\n",
    "        \n",
    "        splitted_rectangles = []\n",
    "        cummulative_shift = 0.0\n",
    "        for ratio in ratios:\n",
    "            sub_rect = self.create_sub_rectangle(ratio, cummulative_shift, split_type)\n",
    "            splitted_rectangles.append(sub_rect)\n",
    "            if split_type == Split.HORIZONTAL:\n",
    "                cummulative_shift += splitted_rectangles[-1].y_size() \n",
    "            elif split_type == Split.VERTICAL:\n",
    "                cummulative_shift += splitted_rectangles[-1].x_size()\n",
    "        return splitted_rectangles"
   ]
  },
  {
   "cell_type": "code",
   "execution_count": 50,
   "metadata": {
    "collapsed": true
   },
   "outputs": [],
   "source": [
    "base_rectangle = TreeRectangle()"
   ]
  },
  {
   "cell_type": "code",
   "execution_count": 51,
   "metadata": {
    "collapsed": true
   },
   "outputs": [],
   "source": [
    "spliited_rects = base_rectangle.split([0.1, 0.4, 0.5], Split.HORIZONTAL)"
   ]
  },
  {
   "cell_type": "code",
   "execution_count": 52,
   "metadata": {},
   "outputs": [
    {
     "name": "stdout",
     "output_type": "stream",
     "text": [
      "(0.0, 0.0, 1.0, 0.1)\n",
      "(0.0, 0.1, 1.0, 0.5)\n",
      "(0.0, 0.5, 1.0, 1.0)\n"
     ]
    }
   ],
   "source": [
    "for rect in spliited_rects:\n",
    "    print(rect)"
   ]
  },
  {
   "cell_type": "code",
   "execution_count": 171,
   "metadata": {
    "collapsed": true
   },
   "outputs": [],
   "source": [
    "import os\n",
    "\n",
    "class TreeMap:\n",
    "    def __init__(self, directory):\n",
    "        self.rects = {}\n",
    "        self.size_map = {}\n",
    "        self.calc_size_map(directory)\n",
    "        self.process_dir(directory, TreeRectangle(), Split.HORIZONTAL)\n",
    "        \n",
    "    def calc_size_map(self, directory):\n",
    "        total_size = 0\n",
    "        for filename in os.listdir(directory):\n",
    "            full_path = os.path.join(directory, filename)\n",
    "            if os.path.isdir(full_path):\n",
    "                self.calc_size_map(full_path)\n",
    "            elif os.path.isfile(full_path):\n",
    "                self.size_map[full_path] = os.path.getsize(full_path)\n",
    "            else:\n",
    "                print('Unknown entity type: ' + full_path)\n",
    "                continue\n",
    "            total_size += self.size_map[full_path]\n",
    "        self.size_map[directory] = total_size\n",
    "    \n",
    "    def process_dir(self, directory, parent_rect, split_type):\n",
    "        if self.size_map[directory] == 0:\n",
    "            # no rect for empty directory\n",
    "            return\n",
    "        files_paths = [os.path.join(directory, filename) for filename in os.listdir(directory)]\n",
    "        \n",
    "        ratios = []\n",
    "        for file_path in files_paths:\n",
    "            ratios.append(self.size_map[file_path] / self.size_map[directory])\n",
    "        \n",
    "        new_rects = parent_rect.split(ratios, split_type)\n",
    "        for i in range(len(files_paths)):\n",
    "            file_path = files_paths[i]\n",
    "            cur_rect = new_rects[i]\n",
    "            if os.path.isdir(file_path):\n",
    "                self.process_dir(file_path, cur_rect, inverse_split(split_type))\n",
    "            elif os.path.isfile(file_path):\n",
    "                self.rects[file_path] = cur_rect\n",
    "            else:\n",
    "                assert(False) "
   ]
  },
  {
   "cell_type": "code",
   "execution_count": 251,
   "metadata": {},
   "outputs": [],
   "source": [
    "class TreeMapSquarified:\n",
    "    def __init__(self, directory):\n",
    "        self.rects = {}\n",
    "        self.subdir_rects = {}\n",
    "        self.size_map = {}\n",
    "        self.calc_size_map(directory)\n",
    "        self.total_size = sum([self.size_map[path] for path in self.size_map if os.path.isfile(path)])\n",
    "        self.process_dir(directory, TreeRectangle())\n",
    "        \n",
    "    def calc_size_map(self, directory):\n",
    "        total_size = 0\n",
    "        for filename in os.listdir(directory):\n",
    "            full_path = os.path.join(directory, filename)\n",
    "            if os.path.isdir(full_path):\n",
    "                self.calc_size_map(full_path)\n",
    "            elif os.path.isfile(full_path):\n",
    "                self.size_map[full_path] = os.path.getsize(full_path)\n",
    "            else:\n",
    "                print('Unknown entity type: ' + full_path)\n",
    "                continue\n",
    "            total_size += self.size_map[full_path]\n",
    "        self.size_map[directory] = total_size\n",
    "    \n",
    "    def process_dir(self, directory, rect):\n",
    "        if self.size_map[directory] == 0:\n",
    "            # no rect for empty directory\n",
    "            return\n",
    "        files_paths = [os.path.join(directory, filename) for filename in os.listdir(directory)]\n",
    "        areas = []\n",
    "        for file_path in files_paths:\n",
    "            areas.append(self.size_map[file_path] / self.total_size)\n",
    "            \n",
    "        # sort in descending ratio order\n",
    "        areas, files_paths = zip(*sorted(zip(areas, files_paths), reverse=True))\n",
    "        areas = list(areas)\n",
    "        files_paths = list(files_paths)\n",
    "        \n",
    "        if 0.0 in areas:\n",
    "            # do not process empty files\n",
    "            zero_first_index = areas.index(0.0)\n",
    "            areas = areas[:zero_first_index]\n",
    "            files_paths = files_paths[:zero_first_index]\n",
    "        \n",
    "        # indices of rects in current_row\n",
    "        row_start_index = 0\n",
    "        \n",
    "        #process extreme cases: last element, only one element\n",
    "        for i in range(1, len(areas)):\n",
    "            area = areas[i]\n",
    "            file_path = files_paths[i]\n",
    "            \n",
    "            old_max_ratio = self.max_aspect_ratio(rect, areas[row_start_index: i])\n",
    "            new_max_ratio = self.max_aspect_ratio(rect, areas[row_start_index: i + 1])                                     \n",
    "            if old_max_ratio < new_max_ratio:\n",
    "                remaining_total_areas_sum = sum(areas[row_start_index:])\n",
    "                rect = self.add_row(rect, remaining_total_areas_sum, \n",
    "                                    areas[row_start_index: i],\n",
    "                                    files_paths[row_start_index: i])\n",
    "                row_start_index = i\n",
    "        \n",
    "        assert(row_start_index < len(areas))\n",
    "        self.add_row(rect, sum(areas[row_start_index:]),\n",
    "                    areas[row_start_index:], files_paths[row_start_index:])\n",
    "        \n",
    "        for file_path in files_paths:\n",
    "            if os.path.isdir(file_path):\n",
    "                # for directories - recursive launch\n",
    "                self.process_dir(file_path, self.subdir_rects[file_path])\n",
    "                \n",
    "    def get_split_type(self, rect):\n",
    "        if rect.x_size() > rect.y_size():\n",
    "            return Split.VERTICAL\n",
    "        else:\n",
    "            return Split.HORIZONTAL\n",
    "                \n",
    "    def max_aspect_ratio(self, rect, areas):\n",
    "        assert(len(areas) > 0)\n",
    "        width = min(rect.x_size(), rect.y_size())\n",
    "        sum_area = sum(areas)\n",
    "        multiplier = width**2 / sum_area**2\n",
    "        return max(multiplier * areas[0], 1.0 / (multiplier * areas[-1]))\n",
    "            \n",
    "    def add_row(self, rect, remaining_total_areas_sum, areas, files_paths):\n",
    "        external_split_type = self.get_split_type(rect)\n",
    "        external_split_ratios = [sum(areas)/remaining_total_areas_sum, 1.0 - sum(areas)/remaining_total_areas_sum]\n",
    "        external_rects = rect.split(external_split_ratios, external_split_type)\n",
    "        \n",
    "        internal_split_ratios = [area / sum(areas) for area in areas]\n",
    "        internal_rects = external_rects[0].split(internal_split_ratios, inverse_split(external_split_type))\n",
    "        for i in range(len(internal_rects)):\n",
    "            if os.path.isfile(files_paths[i]):\n",
    "                self.rects[files_paths[i]] = internal_rects[i] \n",
    "            elif os.path.isdir(files_paths[i]):\n",
    "                self.subdir_rects[files_paths[i]] = internal_rects[i]\n",
    "        return external_rects[1]"
   ]
  },
  {
   "cell_type": "code",
   "execution_count": 252,
   "metadata": {
    "collapsed": true
   },
   "outputs": [],
   "source": [
    "import random\n",
    "\n",
    "class TreeMapVisualizer:\n",
    "    def __init__(self, tree_map):\n",
    "        self.tree_map = tree_map\n",
    "        self.extension_color_map = {}\n",
    "        \n",
    "    def create_plt_rectangle(self, rect, color):\n",
    "        return pa.Rectangle(rect.get_start_point(), rect.x_size(), rect.y_size(), facecolor=color, edgecolor='black')\n",
    "        \n",
    "    def generate_new_color(self, ext):\n",
    "        self.extension_color_map[ext] = \"#\"+''.join([random.choice('23456789ABCDEF') for j in range(6)])\n",
    "        #self.extension_color_map[ext] = (random.uniform(0,1), random.uniform(0,1), random.uniform(0,1))\n",
    "        \n",
    "    def visualize(self, figure):\n",
    "        #figure_size = figure.get_size_inches()*figure.dpi\n",
    "        for file_path, rect in self.tree_map.rects.items():\n",
    "            extension = os.path.splitext(file_path)[1]\n",
    "            if extension not in self.extension_color_map:\n",
    "                self.generate_new_color(extension)\n",
    "            figure.gca().add_patch(self.create_plt_rectangle(rect, self.extension_color_map[extension]))\n",
    "        \n",
    "        legend_patches = []\n",
    "        for ext, color in self.extension_color_map.items():\n",
    "            legend_patches.append(pa.Patch(color=color, label=ext))\n",
    "        plt.legend(handles=legend_patches, loc='upper center', bbox_to_anchor=(0.5, -0.05),\n",
    "          fancybox=True, shadow=True, ncol=8)"
   ]
  },
  {
   "cell_type": "code",
   "execution_count": 253,
   "metadata": {
    "scrolled": true
   },
   "outputs": [],
   "source": [
    "#tree_map = TreeMap(working_dir)"
   ]
  },
  {
   "cell_type": "code",
   "execution_count": 254,
   "metadata": {
    "collapsed": true
   },
   "outputs": [],
   "source": [
    "#visualizer = TreeMapVisualizer(tree_map)"
   ]
  },
  {
   "cell_type": "code",
   "execution_count": 269,
   "metadata": {},
   "outputs": [],
   "source": [
    "tree_map_squarified = TreeMapSquarified(working_dir)"
   ]
  },
  {
   "cell_type": "code",
   "execution_count": 263,
   "metadata": {},
   "outputs": [],
   "source": [
    "#tree_map_squarified.subdir_rects"
   ]
  },
  {
   "cell_type": "code",
   "execution_count": 270,
   "metadata": {
    "collapsed": true
   },
   "outputs": [],
   "source": [
    "visualizer = TreeMapVisualizer(tree_map_squarified)"
   ]
  },
  {
   "cell_type": "code",
   "execution_count": null,
   "metadata": {},
   "outputs": [],
   "source": [
    "%matplotlib inline\n",
    "\n",
    "visualizer.visualize(plt.figure(figsize=(100, 100)))\n",
    "plt.savefig('result.png')"
   ]
  },
  {
   "cell_type": "code",
   "execution_count": 38,
   "metadata": {},
   "outputs": [
    {
     "data": {
      "text/plain": [
       "<matplotlib.patches.Rectangle at 0x116b8ce10>"
      ]
     },
     "execution_count": 38,
     "metadata": {},
     "output_type": "execute_result"
    },
    {
     "data": {
      "image/png": "[encoded data removed]",
      "text/plain": [
       "<Figure size 720x720 with 1 Axes>"
      ]
     },
     "metadata": {},
     "output_type": "display_data"
    }
   ],
   "source": [
    "%matplotlib inline\n",
    "\n",
    "figure = plt.figure(figsize=(10, 10))\n",
    "figure.gca().add_patch(pa.Rectangle((0.1, 0.1), 0.0, 0.0, edgecolor='black', facecolor='#222222'))\n",
    "#figure.gca().add_patch(pa.Rectangle((0.35, 0.1), 0.25, 0.5, edgecolor='black', facecolor='#222222'))"
   ]
  },
  {
   "cell_type": "code",
   "execution_count": null,
   "metadata": {
    "collapsed": true
   },
   "outputs": [],
   "source": []
  }
 ],
 "metadata": {
  "kernelspec": {
   "display_name": "Python 3",
   "language": "python",
   "name": "python3"
  },
  "language_info": {
   "codemirror_mode": {
    "name": "ipython",
    "version": 3
   },
   "file_extension": ".py",
   "mimetype": "text/x-python",
   "name": "python",
   "nbconvert_exporter": "python",
   "pygments_lexer": "ipython3",
   "version": "3.5.4"
  }
 },
 "nbformat": 4,
 "nbformat_minor": 2
}
